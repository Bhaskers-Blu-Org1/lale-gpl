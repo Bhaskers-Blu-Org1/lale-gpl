{
 "cells": [
  {
   "cell_type": "code",
   "execution_count": 1,
   "metadata": {
    "scrolled": true
   },
   "outputs": [
    {
     "name": "stdout",
     "output_type": "stream",
     "text": [
      "expected\n",
      "[6 9 3 7 2 1 5 2 5 2 1 9 4 0 4 2 3 7 8 8 4 3 9 7 5 6 3 5 6 3 4 9 1 4 4 6 9\n",
      " 4 7 6 6 9 1 3 6 1 3 0 6 5 5 1 9 5 6 0 9 0 0 1 0 4 5 2 4 5 7 0 7 5 9 5 5 4\n",
      " 7 0 4 5 5 9 9 0 2 3 8 0 6 4 4 9 1 2 8 3 5 2 9 0 4 4 4 3 5 3 1 3 5 9 4 2 7\n",
      " 7 4 4 1 9 2 7 8 7 2 6 9 4 0 7 2 7 5 8 7 5 7 7 0 6 6 4 2 8 0 9 4 6 9 9 6 9\n",
      " 0 3 5 6 6 0 6 4 3 9 3 9 7 2 9 0 4 5 3 6 5 9 9 8 4 2 1 3 7 7 2 2 3 9 8 0 3\n",
      " 2 2 5 6 9 9 4 1 5 4 2 3 6 4 8]\n"
     ]
    }
   ],
   "source": [
    "import lale.helpers\n",
    "import sklearn.datasets\n",
    "import sklearn.utils\n",
    "digits = sklearn.datasets.load_digits()\n",
    "X_all, y_all = sklearn.utils.shuffle(\n",
    "    digits.data, digits.target, random_state=42)\n",
    "holdout_size = 200\n",
    "X_train, y_train = X_all[holdout_size:], y_all[holdout_size:]\n",
    "X_test, y_test = X_all[:holdout_size], y_all[:holdout_size]\n",
    "print('expected\\n{}'.format(y_test))"
   ]
  },
  {
   "cell_type": "code",
   "execution_count": 2,
   "metadata": {},
   "outputs": [
    {
     "name": "stdout",
     "output_type": "stream",
     "text": [
      "hyperparam_defaults:\n",
      "  A: false\n",
      "  B: false\n",
      "  C: 0.25\n",
      "  J: false\n",
      "  L: false\n",
      "  M: 2\n",
      "  N: 3\n",
      "  O: false\n",
      "  Q: 1\n",
      "  R: false\n",
      "  S: false\n",
      "  U: false\n",
      "  batch_size: 100\n",
      "  doNotMakeSplitPointActualValue: false\n",
      "  do_not_check_capabilities: false\n",
      "  num_decimal_places: 2\n",
      "  output_debug_info: false\n",
      "hyperparam_schema('C'):\n",
      "  default: 0.25\n",
      "  description: Set confidence threshold for pruning.\n",
      "  exclusiveMaximum: true\n",
      "  exclusiveMinimum: true\n",
      "  maximum: 1\n",
      "  maximumForOptimizer: 0.5\n",
      "  minimum: 0.01\n",
      "  type: number\n"
     ]
    }
   ],
   "source": [
    "from lalegpl.lib.weka import J48\n",
    "lale.helpers.print_yaml('hyperparam_defaults', J48.hyperparam_defaults())\n",
    "lale.helpers.print_yaml(\"hyperparam_schema('C')\", J48.hyperparam_schema('C'))"
   ]
  },
  {
   "cell_type": "code",
   "execution_count": 3,
   "metadata": {},
   "outputs": [
    {
     "name": "stdout",
     "output_type": "stream",
     "text": [
      "predicted\n",
      "[6 9 3 7 2 1 5 3 5 2 2 6 4 0 4 2 3 7 8 8 4 3 9 7 5 6 3 5 6 3 4 9 1 6 4 6 9\n",
      " 4 7 6 6 9 1 3 6 1 3 0 6 5 5 1 9 5 6 0 3 0 0 8 0 4 5 2 4 5 7 0 7 5 9 5 5 6\n",
      " 7 0 4 5 5 9 9 0 2 3 8 0 6 4 6 9 1 2 8 3 5 2 9 4 4 4 4 3 7 3 1 8 5 8 4 2 7\n",
      " 7 4 4 1 9 7 7 8 7 2 6 9 6 2 7 2 7 5 8 7 5 7 7 0 6 6 4 2 8 0 9 4 6 9 9 6 9\n",
      " 0 3 5 6 6 0 6 4 9 9 3 8 7 2 0 0 4 5 8 6 5 9 9 8 4 2 1 2 7 7 2 2 3 9 8 0 3\n",
      " 2 2 5 6 9 9 4 1 5 4 2 3 6 4 8]\n"
     ]
    }
   ],
   "source": [
    "trainable_J48 = J48()\n",
    "trained_J48 = trainable_J48.fit(X_train, y_train)\n",
    "predicted = trained_J48.predict(X_test)\n",
    "print('predicted\\n{}'.format(predicted))"
   ]
  },
  {
   "cell_type": "code",
   "execution_count": 4,
   "metadata": {},
   "outputs": [
    {
     "name": "stdout",
     "output_type": "stream",
     "text": [
      "accuracy 90.0%\n",
      "  for default hyperparams\n"
     ]
    }
   ],
   "source": [
    "import sklearn.metrics\n",
    "print('accuracy {:.1%}\\n  for default hyperparams'.format(\n",
    "    sklearn.metrics.accuracy_score(y_test, predicted)))"
   ]
  },
  {
   "cell_type": "code",
   "execution_count": 5,
   "metadata": {},
   "outputs": [
    {
     "name": "stdout",
     "output_type": "stream",
     "text": [
      "accuracy 73.0%\n",
      "  for hyperparams {'A': True, 'L': True, 'M': 55}\n"
     ]
    }
   ],
   "source": [
    "from hyperopt import STATUS_OK, Trials, fmin, tpe, space_eval\n",
    "from lale.search.op2hp import hyperopt_search_space\n",
    "\n",
    "def objective(hyperparams):\n",
    "    trainable = J48(**lale.helpers.dict_without(hyperparams, 'name'))\n",
    "    trained = trainable.fit(X_train, y_train)\n",
    "    predictions = trained.predict(X_test)\n",
    "    accuracy = sklearn.metrics.accuracy_score(y_test, predictions)\n",
    "    return {'loss': -accuracy, 'status': STATUS_OK}\n",
    "\n",
    "search_space = hyperopt_search_space(J48)\n",
    "trials = Trials()\n",
    "fmin(objective, search_space, algo=tpe.suggest, max_evals=3, trials=trials)\n",
    "best = J48(**lale.helpers.dict_without(space_eval(search_space, trials.argmin), 'name'))\n",
    "print('accuracy {:.1%}\\n  for hyperparams {}'.format(\n",
    "    -min(trials.losses()), best.hyperparams()))"
   ]
  },
  {
   "cell_type": "code",
   "execution_count": 6,
   "metadata": {},
   "outputs": [
    {
     "name": "stdout",
     "output_type": "stream",
     "text": [
      "notebook cell [6] line 4: 2019-08-07_10-54-35 before calling fit on pipeline\n",
      "notebook cell [6] line 6: 2019-08-07_10-54-36 after calling fit on pipeline\n"
     ]
    },
    {
     "data": {
      "image/svg+xml": [
       "<?xml version=\"1.0\" encoding=\"UTF-8\" standalone=\"no\"?>\n",
       "<!DOCTYPE svg PUBLIC \"-//W3C//DTD SVG 1.1//EN\"\n",
       " \"http://www.w3.org/Graphics/SVG/1.1/DTD/svg11.dtd\">\n",
       "<!-- Generated by graphviz version 2.40.1 (20161225.0304)\n",
       " -->\n",
       "<!-- Title: %3 Pages: 1 -->\n",
       "<svg width=\"224pt\" height=\"44pt\"\n",
       " viewBox=\"0.00 0.00 224.31 44.00\" xmlns=\"http://www.w3.org/2000/svg\" xmlns:xlink=\"http://www.w3.org/1999/xlink\">\n",
       "<g id=\"graph0\" class=\"graph\" transform=\"scale(1 1) rotate(0) translate(4 40)\">\n",
       "<title>%3</title>\n",
       "<polygon fill=\"#ffffff\" stroke=\"transparent\" points=\"-4,4 -4,-40 220.3093,-40 220.3093,4 -4,4\"/>\n",
       "<!-- 0 -->\n",
       "<g id=\"node1\" class=\"node\">\n",
       "<title>0</title>\n",
       "<g id=\"a_node1\"><a xlink:href=\"https://scikit-learn.org/stable/modules/generated/sklearn.preprocessing.MinMaxScaler.html\" xlink:title=\"MinMaxScaler\">\n",
       "<ellipse fill=\"#ffffff\" stroke=\"#000000\" cx=\"63.1547\" cy=\"-18\" rx=\"63.3097\" ry=\"18\"/>\n",
       "<text text-anchor=\"middle\" x=\"63.1547\" y=\"-13.8\" font-family=\"Times,serif\" font-size=\"14.00\" fill=\"#000000\">MinMaxScaler</text>\n",
       "</a>\n",
       "</g>\n",
       "</g>\n",
       "<!-- 1 -->\n",
       "<g id=\"node2\" class=\"node\">\n",
       "<title>1</title>\n",
       "<g id=\"a_node2\"><a xlink:href=\"http://weka.sourceforge.net/doc.dev/weka/classifiers/trees/J48.html\" xlink:title=\"J48\">\n",
       "<ellipse fill=\"#ffffff\" stroke=\"#000000\" cx=\"189.3093\" cy=\"-18\" rx=\"27\" ry=\"18\"/>\n",
       "<text text-anchor=\"middle\" x=\"189.3093\" y=\"-13.8\" font-family=\"Times,serif\" font-size=\"14.00\" fill=\"#000000\">J48</text>\n",
       "</a>\n",
       "</g>\n",
       "</g>\n",
       "<!-- 0&#45;&gt;1 -->\n",
       "<g id=\"edge1\" class=\"edge\">\n",
       "<title>0&#45;&gt;1</title>\n",
       "<path fill=\"none\" stroke=\"#000000\" d=\"M126.6016,-18C135.3047,-18 143.9985,-18 152.0202,-18\"/>\n",
       "<polygon fill=\"#000000\" stroke=\"#000000\" points=\"152.1225,-21.5001 162.1225,-18 152.1224,-14.5001 152.1225,-21.5001\"/>\n",
       "</g>\n",
       "</g>\n",
       "</svg>\n"
      ],
      "text/plain": [
       "<graphviz.dot.Digraph at 0x145da90f0>"
      ]
     },
     "execution_count": 6,
     "metadata": {},
     "output_type": "execute_result"
    }
   ],
   "source": [
    "from lale.lib.sklearn import MinMaxScaler\n",
    "scaler = MinMaxScaler()\n",
    "trainable_pipe = scaler >> trainable_J48\n",
    "lale.helpers.println_pos('before calling fit on pipeline')\n",
    "trained_pipe = trainable_pipe.fit(X_train, y_train)\n",
    "lale.helpers.println_pos('after calling fit on pipeline')\n",
    "lale.helpers.to_graphviz(trained_pipe)"
   ]
  },
  {
   "cell_type": "code",
   "execution_count": 7,
   "metadata": {},
   "outputs": [
    {
     "name": "stdout",
     "output_type": "stream",
     "text": [
      "accuracy 90.0%\n",
      "  for pipeline with PCA\n"
     ]
    }
   ],
   "source": [
    "predicted = trained_pipe.predict(X_test)\n",
    "print('accuracy {:.1%}\\n  for pipeline with PCA'.format(\n",
    "    sklearn.metrics.accuracy_score(y_test, predicted)))"
   ]
  },
  {
   "cell_type": "code",
   "execution_count": 8,
   "metadata": {},
   "outputs": [
    {
     "name": "stdout",
     "output_type": "stream",
     "text": [
      "notebook cell [8] line 1: 2019-08-07_10-54-49 successfully reached the end of the notebook\n"
     ]
    }
   ],
   "source": [
    "lale.helpers.println_pos('successfully reached the end of the notebook')"
   ]
  }
 ],
 "metadata": {
  "kernelspec": {
   "display_name": "Python 3",
   "language": "python",
   "name": "python3"
  },
  "language_info": {
   "codemirror_mode": {
    "name": "ipython",
    "version": 3
   },
   "file_extension": ".py",
   "mimetype": "text/x-python",
   "name": "python",
   "nbconvert_exporter": "python",
   "pygments_lexer": "ipython3",
   "version": "3.7.3"
  }
 },
 "nbformat": 4,
 "nbformat_minor": 2
}
